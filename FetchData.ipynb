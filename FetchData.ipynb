{
 "cells": [
  {
   "cell_type": "code",
   "execution_count": 4,
   "id": "128a0e35",
   "metadata": {},
   "outputs": [
    {
     "name": "stdout",
     "output_type": "stream",
     "text": [
      "['BIF_create', 'EigenFaceRecognizer_create', 'FisherFaceRecognizer_create', 'LBPHFaceRecognizer_create', 'MACE_create', 'MACE_load', 'StandardCollector_create', '__doc__', '__loader__', '__name__', '__package__', '__spec__', 'createFacemarkAAM', 'createFacemarkKazemi', 'createFacemarkLBF', 'drawFacemarks', 'getFacesHAAR', 'loadDatasetList', 'loadFacePoints', 'loadTrainingData']\n"
     ]
    }
   ],
   "source": [
    "import sqlite3\n",
    "import numpy as np\n",
    "from PIL import Image\n",
    "import os\n",
    "import cv2\n",
    "\n",
    "def draw_boundary(img,classifier,scaleFactor,minNeighbors,colors,text,clf):\n",
    "    gray_image = cv2.cvtColor(img, cv2.COLOR_BGR2GRAY)\n",
    "    features = classifier.detectMultiScale(gray_image,scaleFactor,minNeighbors)\n",
    "    \n",
    "    coords=[]\n",
    "    \n",
    "    for(x,y,w,h) in features:\n",
    "        cv2.rectangle(img,(x,y),(x+w,y+h),colors,2)\n",
    "        id,pred = clf.predict(gray_image[y:y+h,x:x+w])\n",
    "        confidence = int(100*(1-pred/300))\n",
    "        \n",
    "        if confidence>70:\n",
    "            if id:\n",
    "                if(int(record[id-1][4])==0):\n",
    "                    cv2.putText(img, \"SAFE\", (x,y-5), cv2.FONT_HERSHEY_SIMPLEX, 2, (0, 255,0), 2, cv2.LINE_AA)\n",
    "                    cv2.putText(img, \"Name-\"+str(record[id-1][1]), (x,y+h+30), cv2.FONT_HERSHEY_SIMPLEX, 0.8, (0, 255,0), 1, cv2.LINE_AA)\n",
    "                    cv2.putText(img, \"Age-\"+str(record[id-1][2]), (x,y+h+60), cv2.FONT_HERSHEY_SIMPLEX, 0.8, (0, 255,0), 1, cv2.LINE_AA)\n",
    "                    cv2.putText(img, \"Gender-\"+str(record[id-1][3]), (x,y+h+90), cv2.FONT_HERSHEY_SIMPLEX, 0.8, (0, 255,0), 1, cv2.LINE_AA)\n",
    "                    cv2.putText(img, \"Criminal Records-\"+str(record[id-1][4]), (x,y+h+120), cv2.FONT_HERSHEY_SIMPLEX, 0.8, (0, 255,0), 1, cv2.LINE_AA)\n",
    "                else:\n",
    "                    cv2.putText(img, \"WARNING\", (x,y-5), cv2.FONT_HERSHEY_SIMPLEX, 2, (0, 0, 255), 2, cv2.LINE_AA)\n",
    "                    cv2.putText(img, \"Name-\"+str(record[id-1][1]), (x,y+h+30), cv2.FONT_HERSHEY_SIMPLEX, 0.8, (0, 0,255), 1, cv2.LINE_AA)\n",
    "                    cv2.putText(img, \"Age-\"+str(record[id-1][2]), (x,y+h+60), cv2.FONT_HERSHEY_SIMPLEX, 0.8, (0, 0,255), 1, cv2.LINE_AA)\n",
    "                    cv2.putText(img, \"Gender-\"+str(record[id-1][3]), (x,y+h+90), cv2.FONT_HERSHEY_SIMPLEX, 0.8, (0, 0,255), 1, cv2.LINE_AA)\n",
    "                    cv2.putText(img, \"Criminal Records-\"+str(record[id-1][4]), (x,y+h+120), cv2.FONT_HERSHEY_SIMPLEX, 0.8, (0, 0,255), 1, cv2.LINE_AA)\n",
    "        else:\n",
    "            cv2.putText(img, \"Unknown\", (x,y-5), cv2.FONT_HERSHEY_SIMPLEX, 0.8, (0, 0, 255), 1, cv2.LINE_AA)\n",
    "            \n",
    "            coords=[x,y,w,h]\n",
    "        return coords\n",
    "def recognize(img,clf,faceCascade):\n",
    "    coords = draw_boundary(img,faceCascade,1.1,10,(0,255,0),\"Face\",clf)\n",
    "    \n",
    "    \n",
    "    return img\n",
    "\n",
    "faceCascade = cv2.CascadeClassifier(\"haarcascade_frontalface_default.xml\")\n",
    "print(dir (cv2.face))\n",
    "clf = cv2.face.LBPHFaceRecognizer_create()\n",
    "clf.read(\"classifier.xml\")\n",
    "\n",
    "#-------------------------------FetchingData---------------------------------\n",
    "db_connect=sqlite3.connect(\"Facebase.db\")\n",
    "fetch_query = \"SELECT * FROM People;\"\n",
    "cur=db_connect.cursor()\n",
    "cur.execute(fetch_query)\n",
    "record=cur.fetchall()\n",
    "record.sort()\n",
    "\n",
    "\n",
    "#--------------------------------Fetching End-------------------------------\n",
    "\n",
    "video_capture = cv2.VideoCapture(0)\n",
    "while True:\n",
    "    ret,img = video_capture.read()\n",
    "    img = recognize(img,clf,faceCascade)\n",
    "    cv2.imshow(\"Face Detection\",img)\n",
    "    #cv2.imshow()\n",
    "    \n",
    "    if cv2.waitKey(1)==13:\n",
    "        break\n",
    "\n",
    "video_capture.release()\n",
    "cv2.destroyAllWindows()\n"
   ]
  },
  {
   "cell_type": "code",
   "execution_count": null,
   "id": "0bfdff56",
   "metadata": {},
   "outputs": [],
   "source": []
  },
  {
   "cell_type": "code",
   "execution_count": null,
   "id": "80950fc5",
   "metadata": {},
   "outputs": [],
   "source": []
  },
  {
   "cell_type": "code",
   "execution_count": null,
   "id": "cafb1c61",
   "metadata": {},
   "outputs": [],
   "source": []
  }
 ],
 "metadata": {
  "kernelspec": {
   "display_name": "Python 3 (ipykernel)",
   "language": "python",
   "name": "python3"
  },
  "language_info": {
   "codemirror_mode": {
    "name": "ipython",
    "version": 3
   },
   "file_extension": ".py",
   "mimetype": "text/x-python",
   "name": "python",
   "nbconvert_exporter": "python",
   "pygments_lexer": "ipython3",
   "version": "3.9.7"
  }
 },
 "nbformat": 4,
 "nbformat_minor": 5
}
