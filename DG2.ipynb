{
 "cells": [
  {
   "cell_type": "code",
   "execution_count": 1,
   "id": "bf956139",
   "metadata": {},
   "outputs": [
    {
     "name": "stderr",
     "output_type": "stream",
     "text": [
      "<>:11: SyntaxWarning: \"is\" with a literal. Did you mean \"==\"?\n",
      "<>:11: SyntaxWarning: \"is\" with a literal. Did you mean \"==\"?\n",
      "C:\\Users\\darsh\\AppData\\Local\\Temp/ipykernel_1964/3758555550.py:11: SyntaxWarning: \"is\" with a literal. Did you mean \"==\"?\n",
      "  if faces is():\n"
     ]
    },
    {
     "name": "stdout",
     "output_type": "stream",
     "text": [
      "Enter the ID :6\n",
      "Enter the name :Alok yadav\n",
      "Collection Samples Completed !\n"
     ]
    }
   ],
   "source": [
    "import cv2\n",
    "import sqlite3\n",
    "    \n",
    "def generate_dataset():\n",
    "    face_classifier=cv2.CascadeClassifier(\"haarcascade_frontalface_default.xml\")\n",
    "    \n",
    "    def face_cropped(img):\n",
    "        gray = cv2.cvtColor(img, cv2.COLOR_BGR2GRAY)\n",
    "        faces = face_classifier.detectMultiScale(gray,1.3,5)\n",
    "        \n",
    "        if faces is():\n",
    "            return None\n",
    "        for(x,y,w,h) in faces:\n",
    "            cropped_face=img[y:y+h,x:x+w]\n",
    "        return cropped_face\n",
    "    \n",
    "    def insertdata(Id,Name):\n",
    "        connect=sqlite3.connect(\"Facebase.db\")\n",
    "        cmd=\"SELECT * FROM People WHERE ID=\"+str(Id)\n",
    "        cursor=connect.execute(cmd)\n",
    "        isRecordExist=0\n",
    "        for row in cursor:\n",
    "            isRecordExist=1\n",
    "        if(isRecordExist==1):\n",
    "            cmd=\"UPDATE people SET Name=' \"+str(Name)+\" ' WHERE ID=\"+str(Id)\n",
    "        else:\n",
    "            cmd=\"INSERT INTO people(ID,Name) Values(\"+str(Id)+\",' \"+str(Name)+\" ' )\"\n",
    "        connect.execute(cmd)\n",
    "        connect.commit()\n",
    "        connect.close()\n",
    "        \n",
    "    cap = cv2.VideoCapture(0)\n",
    "    Id = input(\"Enter the ID :\")\n",
    "    Name=input(\"Enter the name :\")\n",
    "    img_id=0\n",
    "    insertdata(Id,Name)\n",
    "    \n",
    "    while True:\n",
    "        ret,frame = cap.read()\n",
    "        if face_cropped(frame) is not None:\n",
    "            img_id+=1\n",
    "            face = cv2.resize(face_cropped(frame),(200,200))\n",
    "            face = cv2.cvtColor(face, cv2.COLOR_BGR2GRAY)\n",
    "            file_name_path = \"data/user.\"+str(id)+\".\"+str(img_id)+\".jpg\"\n",
    "            cv2.imwrite(file_name_path,face)\n",
    "            cv2.putText(face, str(img_id),(50,50),cv2.FONT_HERSHEY_COMPLEX,1,(0,255,0),2)\n",
    "            \n",
    "            cv2.imshow(\"Cropped face\",face)\n",
    "        if cv2.waitKey(1) == 13 or int(img_id==5):\n",
    "            break\n",
    "    cap.release()\n",
    "    cv2.destroyAllWindows()\n",
    "    print(\"Collection Samples Completed !\")\n",
    "    \n",
    "#make below line comment if dont want to generate dataset\n",
    "generate_dataset()"
   ]
  },
  {
   "cell_type": "markdown",
   "id": "75dad5c7",
   "metadata": {},
   "source": []
  },
  {
   "cell_type": "code",
   "execution_count": null,
   "id": "352852e1",
   "metadata": {},
   "outputs": [],
   "source": []
  }
 ],
 "metadata": {
  "kernelspec": {
   "display_name": "Python 3 (ipykernel)",
   "language": "python",
   "name": "python3"
  },
  "language_info": {
   "codemirror_mode": {
    "name": "ipython",
    "version": 3
   },
   "file_extension": ".py",
   "mimetype": "text/x-python",
   "name": "python",
   "nbconvert_exporter": "python",
   "pygments_lexer": "ipython3",
   "version": "3.9.7"
  }
 },
 "nbformat": 4,
 "nbformat_minor": 5
}
