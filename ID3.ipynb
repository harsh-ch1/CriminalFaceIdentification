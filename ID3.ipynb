{
 "cells": [
  {
   "cell_type": "code",
   "execution_count": 2,
   "id": "514a4b7f",
   "metadata": {},
   "outputs": [
    {
     "name": "stdout",
     "output_type": "stream",
     "text": [
      "['BIF_create', 'EigenFaceRecognizer_create', 'FisherFaceRecognizer_create', 'LBPHFaceRecognizer_create', 'MACE_create', 'MACE_load', 'StandardCollector_create', '__doc__', '__loader__', '__name__', '__package__', '__spec__', 'createFacemarkAAM', 'createFacemarkKazemi', 'createFacemarkLBF', 'drawFacemarks', 'getFacesHAAR', 'loadDatasetList', 'loadFacePoints', 'loadTrainingData']\n",
      "Can't receive frame (stream end?). Exiting ...\n"
     ]
    }
   ],
   "source": [
    "import numpy as np\n",
    "from PIL import Image\n",
    "import os\n",
    "import cv2\n",
    "import sqlite3\n",
    "\n",
    "def draw_boundary(img,classifier,scaleFactor,minNeighborscolor,text,clf):\n",
    "    gray_image = cv2.cvtColor(img, cv2.COLOR_BGR2GRAY)\n",
    "    features = classifier.detectMultiScale(gray_image,scaleFactor,minNeighbors)\n",
    "    \n",
    "    coords=[]\n",
    "    \n",
    "    for(x,y,w,h) in features:\n",
    "        cv2.rectangle(img,(x,y),(x+w,y+h),colors,2)\n",
    "        id,pred = clf.predict(gray_image[y:y+h,x:x+w])\n",
    "        \n",
    "        coords=[x,y,w,h]\n",
    "        return coords\n",
    "def recognize(img,clf,faceCascade):\n",
    "    coords = draw_boundary(img,faceCascade,1.1,10,(0,255,0),\"Face\",clf)\n",
    "    \n",
    "    \n",
    "    return img\n",
    "\n",
    "faceCascade = cv2.CascadeClassifier(\"haarcascade_frontalface_default.xml\")\n",
    "print(dir (cv2.face))\n",
    "clf = cv2.face.LBPHFaceRecognizer_create()\n",
    "clf.read(\"classifier.xml\")\n",
    "path=r'C:\\Users\\darsh\\Desktop\\Python Face Recognition\\data\\user.1.1.jpg'\n",
    "src=cv2.imread(path)\n",
    "\n",
    "def getProfile(id):\n",
    "    conn=sqlite3.connect(\"Facebase.db\")\n",
    "    cmd=\"SELECT * FROM People WHERE ID=\"+str(id)\n",
    "    cursor=conn.execute(cmd)\n",
    "    profile=None\n",
    "    for row in cursor:\n",
    "        profile=row\n",
    "    conn.close()\n",
    "    return profile\n",
    "\n",
    "video_capture = cv2.VideoCapture(1)\n",
    "#font=cv2.InitFont(cv2.CV_FONT_HERSHEY_SIMPLEX,1,1,0,1,1)\n",
    "while True:\n",
    "    ret,img = video_capture.read()\n",
    "    if not ret:\n",
    "        print(\"Can't receive frame (stream end?). Exiting ...\")\n",
    "        break\n",
    "    img = recognize(img,clf,faceCascade)\n",
    "    gray=cv2.cvtColor(img,cv2.COLOR_RGB2GRAY)\n",
    "    faces=faceCascade.detectMultiScale(gray, scalarFactor=1.2,minNeighbors=5,minSize=(100,100),flags=cv2.CASCADE_SCALE_IMAGE)\n",
    "    for(x,y,w,h) in faces:\n",
    "        id,conf=clf.predict(gray[y:y+h,x:x+w])\n",
    "        cv2.rectangle(img,(x,y),(x+w,y+h),(225,0,0),2)\n",
    "        profile=getProfile(id)\n",
    "        if(profile!=None):\n",
    "            #cv2.putText(img, profile[1], (x,y-5), cv2.FONT_HERSHEY_SIMPLEX, 0.8, cv2.cvtColor, 1, cv2.LINE_AA)\n",
    "            #cv2.putText(img, profile[2], (x,y-5), cv2.FONT_HERSHEY_SIMPLEX, 0.8, cv2.cvtColor, 1, cv2.LINE_AA)\n",
    "            #cv2.putText(img, profile[3], (x,y-5), cv2.FONT_HERSHEY_SIMPLEX, 0.8, cv2.cvtColor, 1, cv2.LINE_AA)\n",
    "            #cv2.putText(img, profile[4], (x,y-5), cv2.FONT_HERSHEY_SIMPLEX, 0.8, cv2.cvtColor, 1, cv2.LINE_AA)\n",
    "            cv2.PutText(cv2.fromarray(img),str(profile[1]),(x,y+h+30),cv2.FONT_HERSHEY_SIMPLEX,255)\n",
    "            cv2.PutText(cv2.fromarray(img),str(profile[2]),(x,y+h+60),cv2.FONT_HERSHEY_SIMPLEX,255)\n",
    "            cv2.PutText(cv2.fromarray(img),str(profile[3]),(x,y+h+90),cv2.FONT_HERSHEY_SIMPLEX,255)\n",
    "            cv2.PutText(cv2.fromarray(img),str(profile[4]),(x,y+h+120),cv2.FONT_HERSHEY_SIMPLEX,255)\n",
    "            \n",
    "    cv2.imshow(\"Face Detection\",img)\n",
    "    \n",
    "    \n",
    "    if cv2.waitKey(1)==13:\n",
    "        break\n",
    "\n",
    "video_capture.release()\n",
    "cv2.destroyAllWindows()"
   ]
  },
  {
   "cell_type": "code",
   "execution_count": null,
   "id": "0ccc6cdc",
   "metadata": {},
   "outputs": [],
   "source": []
  }
 ],
 "metadata": {
  "kernelspec": {
   "display_name": "Python 3 (ipykernel)",
   "language": "python",
   "name": "python3"
  },
  "language_info": {
   "codemirror_mode": {
    "name": "ipython",
    "version": 3
   },
   "file_extension": ".py",
   "mimetype": "text/x-python",
   "name": "python",
   "nbconvert_exporter": "python",
   "pygments_lexer": "ipython3",
   "version": "3.9.7"
  }
 },
 "nbformat": 4,
 "nbformat_minor": 5
}
